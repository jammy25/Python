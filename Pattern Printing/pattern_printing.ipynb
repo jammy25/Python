{
 "cells": [
  {
   "cell_type": "markdown",
   "id": "80ca39c6",
   "metadata": {},
   "source": [
    "### Printing \"*\" in right-angle triangle shape"
   ]
  },
  {
   "cell_type": "code",
   "execution_count": 11,
   "id": "3831015c",
   "metadata": {
    "scrolled": false
   },
   "outputs": [
    {
     "name": "stdout",
     "output_type": "stream",
     "text": [
      "5\n",
      "* \n",
      "* * \n",
      "* * * \n",
      "* * * * \n",
      "* * * * * \n"
     ]
    }
   ],
   "source": [
    "n = int(input())\n",
    "for i in range(0, n):\n",
    "    for j in range(0, i + 1):\n",
    "        print('*', end = ' ')\n",
    "    print()"
   ]
  },
  {
   "cell_type": "markdown",
   "id": "772c730f",
   "metadata": {},
   "source": [
    "### Printing \"*\" in right-angle triangle shape in odd nos."
   ]
  },
  {
   "cell_type": "code",
   "execution_count": 15,
   "id": "5e595367",
   "metadata": {},
   "outputs": [
    {
     "name": "stdout",
     "output_type": "stream",
     "text": [
      "5\n",
      "* \n",
      "* * * \n",
      "* * * * * \n",
      "* * * * * * * \n",
      "* * * * * * * * * \n"
     ]
    }
   ],
   "source": [
    "n = int(input())\n",
    "k = 0\n",
    "for i in range(0, n):\n",
    "    for j in range(0, k + 1):\n",
    "        print(\"*\", end = ' ')\n",
    "    k = k + 2\n",
    "    print()"
   ]
  },
  {
   "cell_type": "markdown",
   "id": "8067e0c3",
   "metadata": {},
   "source": [
    "### Printing '*' in Pyramid Shape"
   ]
  },
  {
   "cell_type": "code",
   "execution_count": 31,
   "id": "24842823",
   "metadata": {},
   "outputs": [
    {
     "name": "stdout",
     "output_type": "stream",
     "text": [
      "5\n",
      "    * \n",
      "   * * \n",
      "  * * * \n",
      " * * * * \n",
      "* * * * * \n"
     ]
    }
   ],
   "source": [
    "n = int(input())\n",
    "for i in range(0, n):\n",
    "    for j in range(0, n - 1 - i):\n",
    "        print(end = \" \")\n",
    "    for j in range(0, i + 1):\n",
    "        print(\"*\", end = ' ')\n",
    "    print()"
   ]
  },
  {
   "cell_type": "code",
   "execution_count": 42,
   "id": "4919fb0c",
   "metadata": {
    "scrolled": true
   },
   "outputs": [
    {
     "name": "stdout",
     "output_type": "stream",
     "text": [
      "5\n",
      "    *\n",
      "   ***\n",
      "  *****\n",
      " *******\n",
      "*********\n"
     ]
    }
   ],
   "source": [
    "n = int(input())\n",
    "for i in range(0, n):\n",
    "    for j in range(0, n - 1 - i):\n",
    "        print(end = \" \")\n",
    "    for j in range(0, 2*i + 1):\n",
    "        print(\"*\", end = '')\n",
    "    print()"
   ]
  },
  {
   "cell_type": "code",
   "execution_count": 49,
   "id": "08861795",
   "metadata": {},
   "outputs": [
    {
     "name": "stdout",
     "output_type": "stream",
     "text": [
      "5\n",
      "* * * * * \n",
      " * * * * \n",
      "  * * * \n",
      "   * * \n",
      "    * \n"
     ]
    }
   ],
   "source": [
    "n = int(input())\n",
    "for i in range(n, 0, -1):\n",
    "    for j in range(0, n - i):\n",
    "        print(end = \" \")\n",
    "    for j in range(0, i):\n",
    "        print(\"*\", end = \" \")\n",
    "    print()"
   ]
  }
 ],
 "metadata": {
  "kernelspec": {
   "display_name": "Python 3 (ipykernel)",
   "language": "python",
   "name": "python3"
  },
  "language_info": {
   "codemirror_mode": {
    "name": "ipython",
    "version": 3
   },
   "file_extension": ".py",
   "mimetype": "text/x-python",
   "name": "python",
   "nbconvert_exporter": "python",
   "pygments_lexer": "ipython3",
   "version": "3.9.10"
  }
 },
 "nbformat": 4,
 "nbformat_minor": 5
}
