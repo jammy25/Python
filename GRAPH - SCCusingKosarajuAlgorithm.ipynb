{
 "cells": [
  {
   "cell_type": "code",
   "execution_count": 23,
   "id": "78ae94e6",
   "metadata": {},
   "outputs": [
    {
     "ename": "NameError",
     "evalue": "name 'graph' is not defined",
     "output_type": "error",
     "traceback": [
      "\u001b[1;31m---------------------------------------------------------------------------\u001b[0m",
      "\u001b[1;31mNameError\u001b[0m                                 Traceback (most recent call last)",
      "Input \u001b[1;32mIn [23]\u001b[0m, in \u001b[0;36m<module>\u001b[1;34m\u001b[0m\n\u001b[0;32m     66\u001b[0m g\u001b[38;5;241m.\u001b[39madd_edge(\u001b[38;5;241m2\u001b[39m, \u001b[38;5;241m4\u001b[39m)\n\u001b[0;32m     67\u001b[0m g\u001b[38;5;241m.\u001b[39madd_edge(\u001b[38;5;241m4\u001b[39m, \u001b[38;5;241m5\u001b[39m)\n\u001b[1;32m---> 69\u001b[0m \u001b[43mg\u001b[49m\u001b[38;5;241;43m.\u001b[39;49m\u001b[43mkosaraju\u001b[49m\u001b[43m(\u001b[49m\u001b[43m)\u001b[49m\n",
      "Input \u001b[1;32mIn [23]\u001b[0m, in \u001b[0;36mGraph.kosaraju\u001b[1;34m(self)\u001b[0m\n\u001b[0;32m     49\u001b[0m     \u001b[38;5;28;01mreturn\u001b[39;00m scc\n\u001b[0;32m     51\u001b[0m stack \u001b[38;5;241m=\u001b[39m []\n\u001b[1;32m---> 52\u001b[0m \u001b[43mtopo_sort\u001b[49m\u001b[43m(\u001b[49m\u001b[43m)\u001b[49m\n\u001b[0;32m     53\u001b[0m t_graph \u001b[38;5;241m=\u001b[39m defaultdict(\u001b[38;5;28mlist\u001b[39m)\n\u001b[0;32m     54\u001b[0m transpose_graph()\n",
      "Input \u001b[1;32mIn [23]\u001b[0m, in \u001b[0;36mGraph.kosaraju.<locals>.topo_sort\u001b[1;34m()\u001b[0m\n\u001b[0;32m     23\u001b[0m \u001b[38;5;28;01mfor\u001b[39;00m u \u001b[38;5;129;01min\u001b[39;00m visited:\n\u001b[0;32m     24\u001b[0m     \u001b[38;5;28;01mcontinue\u001b[39;00m\n\u001b[1;32m---> 25\u001b[0m \u001b[43mtopo_sort_util\u001b[49m\u001b[43m(\u001b[49m\u001b[43mu\u001b[49m\u001b[43m)\u001b[49m\n",
      "Input \u001b[1;32mIn [23]\u001b[0m, in \u001b[0;36mGraph.kosaraju.<locals>.topo_sort.<locals>.topo_sort_util\u001b[1;34m(u)\u001b[0m\n\u001b[0;32m     13\u001b[0m \u001b[38;5;28;01mdef\u001b[39;00m \u001b[38;5;21mtopo_sort_util\u001b[39m(u):\n\u001b[0;32m     14\u001b[0m     visited\u001b[38;5;241m.\u001b[39madd(u)\n\u001b[1;32m---> 15\u001b[0m     \u001b[38;5;28;01mfor\u001b[39;00m v \u001b[38;5;129;01min\u001b[39;00m \u001b[43mgraph\u001b[49m[u]:\n\u001b[0;32m     16\u001b[0m         \u001b[38;5;28;01mif\u001b[39;00m v \u001b[38;5;129;01min\u001b[39;00m visited:\n\u001b[0;32m     17\u001b[0m             \u001b[38;5;28;01mcontinue\u001b[39;00m\n",
      "\u001b[1;31mNameError\u001b[0m: name 'graph' is not defined"
     ]
    }
   ],
   "source": [
    "from collections import defaultdict\n",
    "\n",
    "class Graph:\n",
    "    def __init__(self, n):\n",
    "        self.graph = defaultdict(list)\n",
    "        self.n = n\n",
    "        \n",
    "    def add_edge(self, u, v):\n",
    "        self.graph[u].append(v)\n",
    "\n",
    "    def kosaraju(graph):\n",
    "        def topo_sort():\n",
    "            def topo_sort_util(u):\n",
    "                visited.add(u)\n",
    "                for v in graph[u]:\n",
    "                    if v in visited:\n",
    "                        continue\n",
    "                    topo_sort_util(v)\n",
    "                stack.append(u)\n",
    "                \n",
    "            visited = set()\n",
    "            for u in range(n):\n",
    "                for u in visited:\n",
    "                    continue\n",
    "                topo_sort_util(u)\n",
    "                \n",
    "        def transpose_graph():\n",
    "            for u in range(n):\n",
    "                for v in graph[u]:\n",
    "                    t_graph[v].append(u)\n",
    "\n",
    "        def dfs():\n",
    "            scc = 0\n",
    "            def dfs_util(u):\n",
    "                visited.add(u)\n",
    "                for v in t_graph[u]:\n",
    "                    if v in visited:\n",
    "                        continue\n",
    "                    dfs_util(v)            \n",
    "            \n",
    "            visited = set()\n",
    "            while stack:\n",
    "                u = stack.pop()\n",
    "                if u in visited:\n",
    "                    continue\n",
    "                else:\n",
    "                    dfs_util(u)\n",
    "                    scc += 1\n",
    "            return scc\n",
    "    \n",
    "        stack = []\n",
    "        topo_sort()\n",
    "        t_graph = defaultdict(list)\n",
    "        transpose_graph()\n",
    "        scc = dfs()\n",
    "        return scc\n",
    "        \n",
    "\n",
    "# Driver Code\n",
    "if __name__ == '__main__':\n",
    "    \n",
    "    g = Graph(5)\n",
    "    g.add_edge(1, 2)\n",
    "    g.add_edge(2, 3)\n",
    "    g.add_edge(3, 1)\n",
    "    g.add_edge(2, 4)\n",
    "    g.add_edge(4, 5)\n",
    "    \n",
    "    g.kosaraju()"
   ]
  }
 ],
 "metadata": {
  "kernelspec": {
   "display_name": "Python 3 (ipykernel)",
   "language": "python",
   "name": "python3"
  },
  "language_info": {
   "codemirror_mode": {
    "name": "ipython",
    "version": 3
   },
   "file_extension": ".py",
   "mimetype": "text/x-python",
   "name": "python",
   "nbconvert_exporter": "python",
   "pygments_lexer": "ipython3",
   "version": "3.9.10"
  }
 },
 "nbformat": 4,
 "nbformat_minor": 5
}
